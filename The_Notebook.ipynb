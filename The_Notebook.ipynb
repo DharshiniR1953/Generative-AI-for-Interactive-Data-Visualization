{
  "cells": [
    {
      "cell_type": "markdown",
      "metadata": {
        "id": "JJM_heYUJrtC"
      },
      "source": [
        "Installing the modules"
      ]
    },
    {
      "cell_type": "code",
      "execution_count": 267,
      "metadata": {
        "colab": {
          "base_uri": "https://localhost:8080/",
          "height": 0
        },
        "id": "QZPip8FJJpVF",
        "outputId": "1de1263e-1340-4dde-8b2a-131efb90967b"
      },
      "outputs": [
        {
          "name": "stdout",
          "output_type": "stream",
          "text": [
            "Requirement already satisfied: openai in c:\\users\\ahmad\\appdata\\local\\programs\\python\\python312\\lib\\site-packages (1.45.0)\n",
            "Requirement already satisfied: python-dotenv in c:\\users\\ahmad\\appdata\\local\\programs\\python\\python312\\lib\\site-packages (1.0.1)\n",
            "Requirement already satisfied: langchain_community in c:\\users\\ahmad\\appdata\\local\\programs\\python\\python312\\lib\\site-packages (0.3.0)\n",
            "Requirement already satisfied: langchain-openai in c:\\users\\ahmad\\appdata\\local\\programs\\python\\python312\\lib\\site-packages (0.2.0)\n",
            "Requirement already satisfied: langchain-anthropic in c:\\users\\ahmad\\appdata\\local\\programs\\python\\python312\\lib\\site-packages (0.2.0)\n",
            "Requirement already satisfied: langchain in c:\\users\\ahmad\\appdata\\local\\programs\\python\\python312\\lib\\site-packages (0.3.0)\n",
            "Requirement already satisfied: matplotlib in c:\\users\\ahmad\\appdata\\local\\programs\\python\\python312\\lib\\site-packages (3.9.2)\n",
            "Requirement already satisfied: pandas in c:\\users\\ahmad\\appdata\\local\\programs\\python\\python312\\lib\\site-packages (2.1.2)\n",
            "Requirement already satisfied: seaborn in c:\\users\\ahmad\\appdata\\local\\programs\\python\\python312\\lib\\site-packages (0.13.2)\n",
            "Requirement already satisfied: plotly in c:\\users\\ahmad\\appdata\\local\\programs\\python\\python312\\lib\\site-packages (5.24.1)\n",
            "Requirement already satisfied: anyio<5,>=3.5.0 in c:\\users\\ahmad\\appdata\\local\\programs\\python\\python312\\lib\\site-packages (from openai) (4.0.0)\n",
            "Requirement already satisfied: distro<2,>=1.7.0 in c:\\users\\ahmad\\appdata\\local\\programs\\python\\python312\\lib\\site-packages (from openai) (1.9.0)\n",
            "Requirement already satisfied: httpx<1,>=0.23.0 in c:\\users\\ahmad\\appdata\\local\\programs\\python\\python312\\lib\\site-packages (from openai) (0.27.2)\n",
            "Requirement already satisfied: jiter<1,>=0.4.0 in c:\\users\\ahmad\\appdata\\local\\programs\\python\\python312\\lib\\site-packages (from openai) (0.5.0)\n",
            "Requirement already satisfied: pydantic<3,>=1.9.0 in c:\\users\\ahmad\\appdata\\local\\programs\\python\\python312\\lib\\site-packages (from openai) (2.9.1)\n",
            "Requirement already satisfied: sniffio in c:\\users\\ahmad\\appdata\\local\\programs\\python\\python312\\lib\\site-packages (from openai) (1.3.0)\n",
            "Requirement already satisfied: tqdm>4 in c:\\users\\ahmad\\appdata\\local\\programs\\python\\python312\\lib\\site-packages (from openai) (4.66.5)\n",
            "Requirement already satisfied: typing-extensions<5,>=4.11 in c:\\users\\ahmad\\appdata\\local\\programs\\python\\python312\\lib\\site-packages (from openai) (4.12.2)\n",
            "Requirement already satisfied: PyYAML>=5.3 in c:\\users\\ahmad\\appdata\\local\\programs\\python\\python312\\lib\\site-packages (from langchain_community) (6.0.1)\n",
            "Requirement already satisfied: SQLAlchemy<3,>=1.4 in c:\\users\\ahmad\\appdata\\local\\programs\\python\\python312\\lib\\site-packages (from langchain_community) (2.0.34)\n",
            "Requirement already satisfied: aiohttp<4.0.0,>=3.8.3 in c:\\users\\ahmad\\appdata\\local\\programs\\python\\python312\\lib\\site-packages (from langchain_community) (3.10.5)\n",
            "Requirement already satisfied: dataclasses-json<0.7,>=0.5.7 in c:\\users\\ahmad\\appdata\\local\\programs\\python\\python312\\lib\\site-packages (from langchain_community) (0.6.7)\n",
            "Requirement already satisfied: langchain-core<0.4.0,>=0.3.0 in c:\\users\\ahmad\\appdata\\local\\programs\\python\\python312\\lib\\site-packages (from langchain_community) (0.3.0)\n",
            "Requirement already satisfied: langsmith<0.2.0,>=0.1.112 in c:\\users\\ahmad\\appdata\\local\\programs\\python\\python312\\lib\\site-packages (from langchain_community) (0.1.120)\n",
            "Requirement already satisfied: numpy<2.0.0,>=1.26.0 in c:\\users\\ahmad\\appdata\\local\\programs\\python\\python312\\lib\\site-packages (from langchain_community) (1.26.1)\n",
            "Requirement already satisfied: pydantic-settings<3.0.0,>=2.4.0 in c:\\users\\ahmad\\appdata\\local\\programs\\python\\python312\\lib\\site-packages (from langchain_community) (2.5.2)\n",
            "Requirement already satisfied: requests<3,>=2 in c:\\users\\ahmad\\appdata\\local\\programs\\python\\python312\\lib\\site-packages (from langchain_community) (2.31.0)\n",
            "Requirement already satisfied: tenacity!=8.4.0,<9.0.0,>=8.1.0 in c:\\users\\ahmad\\appdata\\local\\programs\\python\\python312\\lib\\site-packages (from langchain_community) (8.5.0)\n",
            "Requirement already satisfied: tiktoken<1,>=0.7 in c:\\users\\ahmad\\appdata\\local\\programs\\python\\python312\\lib\\site-packages (from langchain-openai) (0.7.0)\n",
            "Requirement already satisfied: anthropic<1,>=0.30.0 in c:\\users\\ahmad\\appdata\\local\\programs\\python\\python312\\lib\\site-packages (from langchain-anthropic) (0.34.2)\n",
            "Requirement already satisfied: defusedxml<0.8.0,>=0.7.1 in c:\\users\\ahmad\\appdata\\local\\programs\\python\\python312\\lib\\site-packages (from langchain-anthropic) (0.7.1)\n",
            "Requirement already satisfied: langchain-text-splitters<0.4.0,>=0.3.0 in c:\\users\\ahmad\\appdata\\local\\programs\\python\\python312\\lib\\site-packages (from langchain) (0.3.0)\n",
            "Requirement already satisfied: contourpy>=1.0.1 in c:\\users\\ahmad\\appdata\\local\\programs\\python\\python312\\lib\\site-packages (from matplotlib) (1.3.0)\n",
            "Requirement already satisfied: cycler>=0.10 in c:\\users\\ahmad\\appdata\\local\\programs\\python\\python312\\lib\\site-packages (from matplotlib) (0.12.1)\n",
            "Requirement already satisfied: fonttools>=4.22.0 in c:\\users\\ahmad\\appdata\\local\\programs\\python\\python312\\lib\\site-packages (from matplotlib) (4.53.1)\n",
            "Requirement already satisfied: kiwisolver>=1.3.1 in c:\\users\\ahmad\\appdata\\local\\programs\\python\\python312\\lib\\site-packages (from matplotlib) (1.4.7)\n",
            "Requirement already satisfied: packaging>=20.0 in c:\\users\\ahmad\\appdata\\local\\programs\\python\\python312\\lib\\site-packages (from matplotlib) (23.2)\n",
            "Requirement already satisfied: pillow>=8 in c:\\users\\ahmad\\appdata\\local\\programs\\python\\python312\\lib\\site-packages (from matplotlib) (10.4.0)\n",
            "Requirement already satisfied: pyparsing>=2.3.1 in c:\\users\\ahmad\\appdata\\local\\programs\\python\\python312\\lib\\site-packages (from matplotlib) (3.1.4)\n",
            "Requirement already satisfied: python-dateutil>=2.7 in c:\\users\\ahmad\\appdata\\local\\programs\\python\\python312\\lib\\site-packages (from matplotlib) (2.8.2)\n",
            "Requirement already satisfied: pytz>=2020.1 in c:\\users\\ahmad\\appdata\\local\\programs\\python\\python312\\lib\\site-packages (from pandas) (2023.3.post1)\n",
            "Requirement already satisfied: tzdata>=2022.1 in c:\\users\\ahmad\\appdata\\local\\programs\\python\\python312\\lib\\site-packages (from pandas) (2023.3)\n",
            "Requirement already satisfied: aiohappyeyeballs>=2.3.0 in c:\\users\\ahmad\\appdata\\local\\programs\\python\\python312\\lib\\site-packages (from aiohttp<4.0.0,>=3.8.3->langchain_community) (2.4.0)\n",
            "Requirement already satisfied: aiosignal>=1.1.2 in c:\\users\\ahmad\\appdata\\local\\programs\\python\\python312\\lib\\site-packages (from aiohttp<4.0.0,>=3.8.3->langchain_community) (1.3.1)\n",
            "Requirement already satisfied: attrs>=17.3.0 in c:\\users\\ahmad\\appdata\\local\\programs\\python\\python312\\lib\\site-packages (from aiohttp<4.0.0,>=3.8.3->langchain_community) (23.1.0)\n",
            "Requirement already satisfied: frozenlist>=1.1.1 in c:\\users\\ahmad\\appdata\\local\\programs\\python\\python312\\lib\\site-packages (from aiohttp<4.0.0,>=3.8.3->langchain_community) (1.4.1)\n",
            "Requirement already satisfied: multidict<7.0,>=4.5 in c:\\users\\ahmad\\appdata\\local\\programs\\python\\python312\\lib\\site-packages (from aiohttp<4.0.0,>=3.8.3->langchain_community) (6.1.0)\n",
            "Requirement already satisfied: yarl<2.0,>=1.0 in c:\\users\\ahmad\\appdata\\local\\programs\\python\\python312\\lib\\site-packages (from aiohttp<4.0.0,>=3.8.3->langchain_community) (1.11.1)\n",
            "Requirement already satisfied: tokenizers>=0.13.0 in c:\\users\\ahmad\\appdata\\local\\programs\\python\\python312\\lib\\site-packages (from anthropic<1,>=0.30.0->langchain-anthropic) (0.20.0)\n",
            "Requirement already satisfied: idna>=2.8 in c:\\users\\ahmad\\appdata\\local\\programs\\python\\python312\\lib\\site-packages (from anyio<5,>=3.5.0->openai) (3.4)\n",
            "Requirement already satisfied: marshmallow<4.0.0,>=3.18.0 in c:\\users\\ahmad\\appdata\\local\\programs\\python\\python312\\lib\\site-packages (from dataclasses-json<0.7,>=0.5.7->langchain_community) (3.22.0)\n",
            "Requirement already satisfied: typing-inspect<1,>=0.4.0 in c:\\users\\ahmad\\appdata\\local\\programs\\python\\python312\\lib\\site-packages (from dataclasses-json<0.7,>=0.5.7->langchain_community) (0.9.0)\n",
            "Requirement already satisfied: certifi in c:\\users\\ahmad\\appdata\\local\\programs\\python\\python312\\lib\\site-packages (from httpx<1,>=0.23.0->openai) (2023.7.22)\n",
            "Requirement already satisfied: httpcore==1.* in c:\\users\\ahmad\\appdata\\local\\programs\\python\\python312\\lib\\site-packages (from httpx<1,>=0.23.0->openai) (1.0.5)\n",
            "Requirement already satisfied: h11<0.15,>=0.13 in c:\\users\\ahmad\\appdata\\local\\programs\\python\\python312\\lib\\site-packages (from httpcore==1.*->httpx<1,>=0.23.0->openai) (0.14.0)\n",
            "Requirement already satisfied: jsonpatch<2.0,>=1.33 in c:\\users\\ahmad\\appdata\\local\\programs\\python\\python312\\lib\\site-packages (from langchain-core<0.4.0,>=0.3.0->langchain_community) (1.33)\n",
            "Requirement already satisfied: orjson<4.0.0,>=3.9.14 in c:\\users\\ahmad\\appdata\\local\\programs\\python\\python312\\lib\\site-packages (from langsmith<0.2.0,>=0.1.112->langchain_community) (3.10.7)\n",
            "Requirement already satisfied: annotated-types>=0.6.0 in c:\\users\\ahmad\\appdata\\local\\programs\\python\\python312\\lib\\site-packages (from pydantic<3,>=1.9.0->openai) (0.7.0)\n",
            "Requirement already satisfied: pydantic-core==2.23.3 in c:\\users\\ahmad\\appdata\\local\\programs\\python\\python312\\lib\\site-packages (from pydantic<3,>=1.9.0->openai) (2.23.3)\n",
            "Requirement already satisfied: six>=1.5 in c:\\users\\ahmad\\appdata\\local\\programs\\python\\python312\\lib\\site-packages (from python-dateutil>=2.7->matplotlib) (1.16.0)\n",
            "Requirement already satisfied: charset-normalizer<4,>=2 in c:\\users\\ahmad\\appdata\\local\\programs\\python\\python312\\lib\\site-packages (from requests<3,>=2->langchain_community) (3.3.1)\n",
            "Requirement already satisfied: urllib3<3,>=1.21.1 in c:\\users\\ahmad\\appdata\\local\\programs\\python\\python312\\lib\\site-packages (from requests<3,>=2->langchain_community) (2.0.7)\n",
            "Requirement already satisfied: greenlet!=0.4.17 in c:\\users\\ahmad\\appdata\\local\\programs\\python\\python312\\lib\\site-packages (from SQLAlchemy<3,>=1.4->langchain_community) (3.1.0)\n",
            "Requirement already satisfied: regex>=2022.1.18 in c:\\users\\ahmad\\appdata\\local\\programs\\python\\python312\\lib\\site-packages (from tiktoken<1,>=0.7->langchain-openai) (2024.9.11)\n",
            "Requirement already satisfied: colorama in c:\\users\\ahmad\\appdata\\local\\programs\\python\\python312\\lib\\site-packages (from tqdm>4->openai) (0.4.6)\n",
            "Requirement already satisfied: jsonpointer>=1.9 in c:\\users\\ahmad\\appdata\\local\\programs\\python\\python312\\lib\\site-packages (from jsonpatch<2.0,>=1.33->langchain-core<0.4.0,>=0.3.0->langchain_community) (2.4)\n",
            "Requirement already satisfied: huggingface-hub<1.0,>=0.16.4 in c:\\users\\ahmad\\appdata\\local\\programs\\python\\python312\\lib\\site-packages (from tokenizers>=0.13.0->anthropic<1,>=0.30.0->langchain-anthropic) (0.24.7)\n",
            "Requirement already satisfied: mypy-extensions>=0.3.0 in c:\\users\\ahmad\\appdata\\local\\programs\\python\\python312\\lib\\site-packages (from typing-inspect<1,>=0.4.0->dataclasses-json<0.7,>=0.5.7->langchain_community) (1.0.0)\n",
            "Requirement already satisfied: filelock in c:\\users\\ahmad\\appdata\\local\\programs\\python\\python312\\lib\\site-packages (from huggingface-hub<1.0,>=0.16.4->tokenizers>=0.13.0->anthropic<1,>=0.30.0->langchain-anthropic) (3.16.0)\n",
            "Requirement already satisfied: fsspec>=2023.5.0 in c:\\users\\ahmad\\appdata\\local\\programs\\python\\python312\\lib\\site-packages (from huggingface-hub<1.0,>=0.16.4->tokenizers>=0.13.0->anthropic<1,>=0.30.0->langchain-anthropic) (2024.9.0)\n"
          ]
        },
        {
          "name": "stderr",
          "output_type": "stream",
          "text": [
            "\n",
            "[notice] A new release of pip is available: 23.3.1 -> 24.2\n",
            "[notice] To update, run: python.exe -m pip install --upgrade pip\n"
          ]
        }
      ],
      "source": [
        "!pip install openai python-dotenv langchain_community langchain-openai langchain-anthropic langchain matplotlib pandas seaborn plotly"
      ]
    },
    {
      "cell_type": "markdown",
      "metadata": {
        "id": "LQN8Mic1JvHt"
      },
      "source": [
        "Importing the needed modules"
      ]
    },
    {
      "cell_type": "code",
      "execution_count": 268,
      "metadata": {
        "id": "JjfcmfBdJu0q"
      },
      "outputs": [
        {
          "data": {
            "text/plain": [
              "True"
            ]
          },
          "execution_count": 268,
          "metadata": {},
          "output_type": "execute_result"
        }
      ],
      "source": [
        "import pandas as pd\n",
        "from dotenv import load_dotenv\n",
        "from pydantic import BaseModel, Field\n",
        "from langchain_openai import ChatOpenAI\n",
        "from langchain_core.prompts import  HumanMessagePromptTemplate\n",
        "\n",
        "\n",
        "# import the api key (The key name most be: `OPENAI_API_KEY`)\n",
        "load_dotenv(dotenv_path='apikey.env')"
      ]
    },
    {
      "cell_type": "markdown",
      "metadata": {
        "id": "D-ahWL5EKTqB"
      },
      "source": [
        "Loading our dataset"
      ]
    },
    {
      "cell_type": "code",
      "execution_count": 269,
      "metadata": {
        "colab": {
          "base_uri": "https://localhost:8080/",
          "height": 206
        },
        "id": "aK4jXhzfKANf",
        "outputId": "f9b4f06d-9056-42b9-f83b-23d5f5bf25c9"
      },
      "outputs": [
        {
          "data": {
            "text/html": [
              "<div>\n",
              "<style scoped>\n",
              "    .dataframe tbody tr th:only-of-type {\n",
              "        vertical-align: middle;\n",
              "    }\n",
              "\n",
              "    .dataframe tbody tr th {\n",
              "        vertical-align: top;\n",
              "    }\n",
              "\n",
              "    .dataframe thead th {\n",
              "        text-align: right;\n",
              "    }\n",
              "</style>\n",
              "<table border=\"1\" class=\"dataframe\">\n",
              "  <thead>\n",
              "    <tr style=\"text-align: right;\">\n",
              "      <th></th>\n",
              "      <th>Date</th>\n",
              "      <th>Product_Category</th>\n",
              "      <th>Product_Name</th>\n",
              "      <th>Product_Cost</th>\n",
              "      <th>Product_Price</th>\n",
              "      <th>Items_Sold</th>\n",
              "    </tr>\n",
              "  </thead>\n",
              "  <tbody>\n",
              "    <tr>\n",
              "      <th>0</th>\n",
              "      <td>2018-01-01</td>\n",
              "      <td>Art &amp; Crafts</td>\n",
              "      <td>Barrel O' Slime</td>\n",
              "      <td>1.99</td>\n",
              "      <td>3.99</td>\n",
              "      <td>281</td>\n",
              "    </tr>\n",
              "    <tr>\n",
              "      <th>1</th>\n",
              "      <td>2018-01-01</td>\n",
              "      <td>Art &amp; Crafts</td>\n",
              "      <td>Etch A Sketch</td>\n",
              "      <td>10.99</td>\n",
              "      <td>20.99</td>\n",
              "      <td>42</td>\n",
              "    </tr>\n",
              "    <tr>\n",
              "      <th>2</th>\n",
              "      <td>2018-01-01</td>\n",
              "      <td>Art &amp; Crafts</td>\n",
              "      <td>Kids Makeup Kit</td>\n",
              "      <td>13.99</td>\n",
              "      <td>19.99</td>\n",
              "      <td>39</td>\n",
              "    </tr>\n",
              "    <tr>\n",
              "      <th>3</th>\n",
              "      <td>2018-01-01</td>\n",
              "      <td>Art &amp; Crafts</td>\n",
              "      <td>Magic Sand</td>\n",
              "      <td>13.99</td>\n",
              "      <td>15.99</td>\n",
              "      <td>128</td>\n",
              "    </tr>\n",
              "    <tr>\n",
              "      <th>4</th>\n",
              "      <td>2018-01-01</td>\n",
              "      <td>Art &amp; Crafts</td>\n",
              "      <td>PlayDoh Can</td>\n",
              "      <td>1.99</td>\n",
              "      <td>2.99</td>\n",
              "      <td>145</td>\n",
              "    </tr>\n",
              "  </tbody>\n",
              "</table>\n",
              "</div>"
            ],
            "text/plain": [
              "         Date Product_Category     Product_Name  Product_Cost  Product_Price  \\\n",
              "0  2018-01-01     Art & Crafts  Barrel O' Slime          1.99           3.99   \n",
              "1  2018-01-01     Art & Crafts    Etch A Sketch         10.99          20.99   \n",
              "2  2018-01-01     Art & Crafts  Kids Makeup Kit         13.99          19.99   \n",
              "3  2018-01-01     Art & Crafts       Magic Sand         13.99          15.99   \n",
              "4  2018-01-01     Art & Crafts      PlayDoh Can          1.99           2.99   \n",
              "\n",
              "   Items_Sold  \n",
              "0         281  \n",
              "1          42  \n",
              "2          39  \n",
              "3         128  \n",
              "4         145  "
            ]
          },
          "execution_count": 269,
          "metadata": {},
          "output_type": "execute_result"
        }
      ],
      "source": [
        "product_sales_data = pd.read_csv(\"product_sales_dataset.csv\")\n",
        "product_sales_data.head()"
      ]
    },
    {
      "cell_type": "markdown",
      "metadata": {
        "id": "0gKeP6ATNJ6X"
      },
      "source": [
        "Lets calculate profit per product"
      ]
    },
    {
      "cell_type": "code",
      "execution_count": 270,
      "metadata": {
        "colab": {
          "base_uri": "https://localhost:8080/",
          "height": 206
        },
        "id": "KnNsyYpqNhUv",
        "outputId": "65d70a3e-ce3f-48a3-e89c-ee49cb5e4338"
      },
      "outputs": [
        {
          "data": {
            "text/html": [
              "<div>\n",
              "<style scoped>\n",
              "    .dataframe tbody tr th:only-of-type {\n",
              "        vertical-align: middle;\n",
              "    }\n",
              "\n",
              "    .dataframe tbody tr th {\n",
              "        vertical-align: top;\n",
              "    }\n",
              "\n",
              "    .dataframe thead th {\n",
              "        text-align: right;\n",
              "    }\n",
              "</style>\n",
              "<table border=\"1\" class=\"dataframe\">\n",
              "  <thead>\n",
              "    <tr style=\"text-align: right;\">\n",
              "      <th></th>\n",
              "      <th>index</th>\n",
              "      <th>Date</th>\n",
              "      <th>Product_Category</th>\n",
              "      <th>Product_Name</th>\n",
              "      <th>Product_Cost</th>\n",
              "      <th>Product_Price</th>\n",
              "      <th>Items_Sold</th>\n",
              "      <th>Product_Profit</th>\n",
              "    </tr>\n",
              "  </thead>\n",
              "  <tbody>\n",
              "    <tr>\n",
              "      <th>0</th>\n",
              "      <td>0</td>\n",
              "      <td>2018-01-01</td>\n",
              "      <td>Art &amp; Crafts</td>\n",
              "      <td>Barrel O' Slime</td>\n",
              "      <td>1.99</td>\n",
              "      <td>3.99</td>\n",
              "      <td>281</td>\n",
              "      <td>562.0</td>\n",
              "    </tr>\n",
              "    <tr>\n",
              "      <th>1</th>\n",
              "      <td>1</td>\n",
              "      <td>2018-01-01</td>\n",
              "      <td>Art &amp; Crafts</td>\n",
              "      <td>Etch A Sketch</td>\n",
              "      <td>10.99</td>\n",
              "      <td>20.99</td>\n",
              "      <td>42</td>\n",
              "      <td>420.0</td>\n",
              "    </tr>\n",
              "    <tr>\n",
              "      <th>2</th>\n",
              "      <td>2</td>\n",
              "      <td>2018-01-01</td>\n",
              "      <td>Art &amp; Crafts</td>\n",
              "      <td>Kids Makeup Kit</td>\n",
              "      <td>13.99</td>\n",
              "      <td>19.99</td>\n",
              "      <td>39</td>\n",
              "      <td>234.0</td>\n",
              "    </tr>\n",
              "    <tr>\n",
              "      <th>3</th>\n",
              "      <td>3</td>\n",
              "      <td>2018-01-01</td>\n",
              "      <td>Art &amp; Crafts</td>\n",
              "      <td>Magic Sand</td>\n",
              "      <td>13.99</td>\n",
              "      <td>15.99</td>\n",
              "      <td>128</td>\n",
              "      <td>256.0</td>\n",
              "    </tr>\n",
              "    <tr>\n",
              "      <th>4</th>\n",
              "      <td>4</td>\n",
              "      <td>2018-01-01</td>\n",
              "      <td>Art &amp; Crafts</td>\n",
              "      <td>PlayDoh Can</td>\n",
              "      <td>1.99</td>\n",
              "      <td>2.99</td>\n",
              "      <td>145</td>\n",
              "      <td>145.0</td>\n",
              "    </tr>\n",
              "  </tbody>\n",
              "</table>\n",
              "</div>"
            ],
            "text/plain": [
              "   index        Date Product_Category     Product_Name  Product_Cost  \\\n",
              "0      0  2018-01-01     Art & Crafts  Barrel O' Slime          1.99   \n",
              "1      1  2018-01-01     Art & Crafts    Etch A Sketch         10.99   \n",
              "2      2  2018-01-01     Art & Crafts  Kids Makeup Kit         13.99   \n",
              "3      3  2018-01-01     Art & Crafts       Magic Sand         13.99   \n",
              "4      4  2018-01-01     Art & Crafts      PlayDoh Can          1.99   \n",
              "\n",
              "   Product_Price  Items_Sold  Product_Profit  \n",
              "0           3.99         281           562.0  \n",
              "1          20.99          42           420.0  \n",
              "2          19.99          39           234.0  \n",
              "3          15.99         128           256.0  \n",
              "4           2.99         145           145.0  "
            ]
          },
          "execution_count": 270,
          "metadata": {},
          "output_type": "execute_result"
        }
      ],
      "source": [
        "def calculate_product_profit(df, price_col, cost_col, items_sold_col):\n",
        "    df['Product_Profit'] = (df[price_col] - df[cost_col]) * df[items_sold_col]\n",
        "    return df.reset_index()\n",
        "\n",
        "product_sales_data = calculate_product_profit(product_sales_data, 'Product_Price', 'Product_Cost','Items_Sold')\n",
        "product_sales_data.head()"
      ]
    },
    {
      "cell_type": "markdown",
      "metadata": {},
      "source": [
        "Set up the LangChain connection to OpenAI"
      ]
    },
    {
      "cell_type": "code",
      "execution_count": 271,
      "metadata": {},
      "outputs": [],
      "source": [
        "# set up the model\n",
        "model = ChatOpenAI(temperature=0, model=\"gpt-4o\")"
      ]
    },
    {
      "cell_type": "markdown",
      "metadata": {
        "id": "DGh77hhqLBu2"
      },
      "source": [
        "Defining the LLM output structure using `pydantic`"
      ]
    },
    {
      "cell_type": "code",
      "execution_count": 272,
      "metadata": {
        "id": "SOlQ5q7yKb-F"
      },
      "outputs": [],
      "source": [
        "class Code(BaseModel):\n",
        "    \"\"\"LLM Code output\"\"\"\n",
        "    context: str = Field(description=\"Description of the generated code. and the input dataframe structure (column Names).\")\n",
        "    imports: str = Field(description=\"Code block import statements\")\n",
        "    code: str = Field(description=\"Code block not including import statements\")\n",
        "   "
      ]
    },
    {
      "cell_type": "code",
      "execution_count": 273,
      "metadata": {},
      "outputs": [
        {
          "name": "stdout",
          "output_type": "stream",
          "text": [
            "def generated_method(dataframe):\n",
            "    pass\n"
          ]
        }
      ],
      "source": [
        "base_code = Code(\n",
        "                context = \"\"\"\n",
        "                        We have a product sales dataset. Heres a description of the columns in this dataframe:\n",
        "                        Date: The date on which the sales data for the products was recorded, formatted as YYYY-MM-DD.\n",
        "                        Product_Category: The category to which the product belongs. This could include various categories like \"Art & Crafts\" or others.\n",
        "                        Product_Name: The name of the product sold. Each row corresponds to a specific product such as \"Barrel O' Slime\" or \"Etch A Sketch.\"\n",
        "                        Product_Cost: The cost to produce or acquire the product. This is the amount spent on each unit of the product.\n",
        "                        Product_Price: The selling price of the product. This is the price at which the product is sold to customers.\n",
        "                        Items_Sold: The quantity of the product sold on the specified date.\n",
        "                        Product_Profit: The total profit generated from the sales of the product. This value is the difference between the selling price and the product cost, multiplied by the number of items sold. It represents the gross profit from that product's sales.\n",
        "                        Act like a data scientist and data visualization engineer. write a Python method called `generated_method` based on matplotlib to create a visualization based on user input.\n",
        "                        The method should take a dataframe as input.\n",
        "                \"\"\",\n",
        "                imports=\"\",\n",
        "                code = \"\"\"\n",
        "                        def generated_method(dataframe):\\n    pass\n",
        "                \"\"\".strip(),\n",
        "                 )\n",
        "\n",
        "print(base_code.code)"
      ]
    },
    {
      "cell_type": "code",
      "execution_count": 274,
      "metadata": {},
      "outputs": [],
      "source": [
        "def generate_code(codeObj, user_query):\n",
        "    \n",
        "    template = \"\"\"\n",
        "            {context}\n",
        "            Here is the method:\n",
        "            {imports}\n",
        "            {code}\n",
        "            Ensure any code you provide is using matplotlib and can be executed with all required imports and variables defined. Update the imports if needed.\n",
        "            Structure your answer with a description of the code solution.\n",
        "            Here is the user prompt:\n",
        "            {user_prompt}\n",
        "    \"\"\"\n",
        "    prompt_template = HumanMessagePromptTemplate.from_template(template = template)\n",
        "    code_generation_prompt = prompt_template.format_messages(\n",
        "                                                             context = codeObj.context,\n",
        "                                                             imports = codeObj.imports, \n",
        "                                                             code = codeObj.code,\n",
        "                                                             user_prompt = user_query, \n",
        "                                                             )\n",
        "    \n",
        "    chain = model.with_structured_output(Code)\n",
        "    \n",
        "    codeObj = chain.invoke(code_generation_prompt)\n",
        "    return codeObj\n",
        "\n",
        "def check_code(codeObj, user_prompt):\n",
        "    code = codeObj.code + \"\\ngenerated_method(product_sales_data)\"\n",
        "    imports = codeObj.imports\n",
        "    try:\n",
        "        exec(imports, globals())\n",
        "    except Exception as e:\n",
        "        print(\"CODE NOT EXECUTABLE!\")\n",
        "        error_message = f\"The following python method is not exectuable. there is the following error {e}. update the following method.\"\n",
        "        new_context = codeObj.context + error_message + imports + code + \"the user message is:\" + user_prompt  \n",
        "        codeObj.context = new_context\n",
        "        print(\"---------------------------\")\n",
        "        print(codeObj.imports)\n",
        "        return (codeObj, True)\n",
        "\n",
        "    try:\n",
        "        exec(code, globals())\n",
        "    except Exception as e:\n",
        "        print(\"CODE NOT EXECUTABLE!\")\n",
        "        error_message = f\"The following python method is not exectuable. there is the following error {e}. update the following method.\"\n",
        "        new_context = codeObj.context + error_message + \"\\n\" + imports + \"\\n\" + code + \"\\n\" + \"the user message is:\" + user_prompt  \n",
        "        codeObj.context = new_context\n",
        "        print(\"---------------------------\")\n",
        "        print(codeObj.context)\n",
        "        print(codeObj.imports)\n",
        "        print(codeObj.code)\n",
        "        return (codeObj, True)\n",
        "\n",
        "    print(\"CODE IS EXECUTED WITH NO ERROR!\")\n",
        "    return (codeObj, False)\n",
        "\n",
        "def install_needed_modules(imports):\n",
        "    list = imports.split(\"\\n\")\n",
        "    \n",
        "\n",
        "def create_visualization(df, user_prompt):\n",
        "    global base_code\n",
        "    error = True\n",
        "    attempt = 1\n",
        "    while(error):\n",
        "        print(\"Attempt:\", attempt)\n",
        "        base_code = generate_code(base_code, user_prompt)\n",
        "        (base_code, error) = check_code(base_code, user_prompt)\n",
        "        attempt += 1\n",
        "\n"
      ]
    },
    {
      "cell_type": "code",
      "execution_count": 276,
      "metadata": {},
      "outputs": [
        {
          "name": "stdout",
          "output_type": "stream",
          "text": [
            "Attempt: 1\n"
          ]
        },
        {
          "data": {
            "image/png": "[encoded data removed]",
            "text/plain": [
              "<Figure size 1000x600 with 1 Axes>"
            ]
          },
          "metadata": {},
          "output_type": "display_data"
        },
        {
          "name": "stdout",
          "output_type": "stream",
          "text": [
            "CODE IS EXECUTED WITH NO ERROR!\n"
          ]
        }
      ],
      "source": [
        "user_prompt = \"remove the grid lines\"\n",
        "create_visualization(product_sales_data, user_prompt = user_prompt)"
      ]
    }
  ],
  "metadata": {
    "colab": {
      "provenance": []
    },
    "kernelspec": {
      "display_name": "Python 3",
      "name": "python3"
    },
    "language_info": {
      "codemirror_mode": {
        "name": "ipython",
        "version": 3
      },
      "file_extension": ".py",
      "mimetype": "text/x-python",
      "name": "python",
      "nbconvert_exporter": "python",
      "pygments_lexer": "ipython3",
      "version": "3.12.0"
    }
  },
  "nbformat": 4,
  "nbformat_minor": 0
}
